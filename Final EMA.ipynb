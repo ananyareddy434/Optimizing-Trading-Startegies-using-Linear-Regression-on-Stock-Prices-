{
 "cells": [
  {
   "cell_type": "markdown",
   "id": "386eba1b",
   "metadata": {},
   "source": [
    "# Importing the historical prices"
   ]
  },
  {
   "cell_type": "code",
   "execution_count": 1,
   "id": "44280e2c",
   "metadata": {},
   "outputs": [],
   "source": [
    "#Dataset imports\n",
    "import yfinance as yf\n",
    "\n",
    "#Standard imports\n",
    "import pandas as pd\n",
    "import numpy as np\n",
    "\n",
    "#Visualization imports\n",
    "from matplotlib import pyplot as plt\n",
    "import seaborn as sns\n",
    "\n",
    "#Model imports\n",
    "from sklearn.model_selection import train_test_split\n",
    "from sklearn.linear_model import LinearRegression\n",
    "\n",
    "#To hide warnings\n",
    "import warnings\n",
    "warnings.filterwarnings('ignore')\n",
    "\n",
    "import math"
   ]
  },
  {
   "cell_type": "code",
   "execution_count": 2,
   "id": "6461b92a",
   "metadata": {},
   "outputs": [
    {
     "name": "stdout",
     "output_type": "stream",
     "text": [
      "[*********************100%***********************]  1 of 1 completed\n"
     ]
    }
   ],
   "source": [
    "ticker = \"ORCL\"\n",
    "start_date = \"2022-06-22\"\n",
    "end_date = \"2023-06-22\"\n",
    "df = yf.download(ticker, start_date, end_date)\n",
    "# new.to_csv('Dataset.csv')\n",
    "# df = pd.read_csv('Dataset.csv')"
   ]
  },
  {
   "cell_type": "code",
   "execution_count": 3,
   "id": "18630ea6",
   "metadata": {
    "scrolled": false
   },
   "outputs": [
    {
     "data": {
      "text/html": [
       "<div>\n",
       "<style scoped>\n",
       "    .dataframe tbody tr th:only-of-type {\n",
       "        vertical-align: middle;\n",
       "    }\n",
       "\n",
       "    .dataframe tbody tr th {\n",
       "        vertical-align: top;\n",
       "    }\n",
       "\n",
       "    .dataframe thead th {\n",
       "        text-align: right;\n",
       "    }\n",
       "</style>\n",
       "<table border=\"1\" class=\"dataframe\">\n",
       "  <thead>\n",
       "    <tr style=\"text-align: right;\">\n",
       "      <th></th>\n",
       "      <th>Open</th>\n",
       "      <th>High</th>\n",
       "      <th>Low</th>\n",
       "      <th>Close</th>\n",
       "      <th>Adj Close</th>\n",
       "      <th>Volume</th>\n",
       "    </tr>\n",
       "    <tr>\n",
       "      <th>Date</th>\n",
       "      <th></th>\n",
       "      <th></th>\n",
       "      <th></th>\n",
       "      <th></th>\n",
       "      <th></th>\n",
       "      <th></th>\n",
       "    </tr>\n",
       "  </thead>\n",
       "  <tbody>\n",
       "    <tr>\n",
       "      <th>2022-06-22</th>\n",
       "      <td>66.930000</td>\n",
       "      <td>67.570000</td>\n",
       "      <td>66.379997</td>\n",
       "      <td>66.529999</td>\n",
       "      <td>65.146484</td>\n",
       "      <td>8219900</td>\n",
       "    </tr>\n",
       "    <tr>\n",
       "      <th>2022-06-23</th>\n",
       "      <td>66.449997</td>\n",
       "      <td>67.870003</td>\n",
       "      <td>66.309998</td>\n",
       "      <td>67.629997</td>\n",
       "      <td>66.223610</td>\n",
       "      <td>8775800</td>\n",
       "    </tr>\n",
       "    <tr>\n",
       "      <th>2022-06-24</th>\n",
       "      <td>68.330002</td>\n",
       "      <td>70.779999</td>\n",
       "      <td>67.970001</td>\n",
       "      <td>70.699997</td>\n",
       "      <td>69.229767</td>\n",
       "      <td>20132600</td>\n",
       "    </tr>\n",
       "    <tr>\n",
       "      <th>2022-06-27</th>\n",
       "      <td>69.370003</td>\n",
       "      <td>70.849998</td>\n",
       "      <td>68.940002</td>\n",
       "      <td>70.410004</td>\n",
       "      <td>68.945801</td>\n",
       "      <td>8840600</td>\n",
       "    </tr>\n",
       "    <tr>\n",
       "      <th>2022-06-28</th>\n",
       "      <td>70.570000</td>\n",
       "      <td>71.070000</td>\n",
       "      <td>68.529999</td>\n",
       "      <td>68.580002</td>\n",
       "      <td>67.153862</td>\n",
       "      <td>7252100</td>\n",
       "    </tr>\n",
       "    <tr>\n",
       "      <th>...</th>\n",
       "      <td>...</td>\n",
       "      <td>...</td>\n",
       "      <td>...</td>\n",
       "      <td>...</td>\n",
       "      <td>...</td>\n",
       "      <td>...</td>\n",
       "    </tr>\n",
       "    <tr>\n",
       "      <th>2023-06-14</th>\n",
       "      <td>116.500000</td>\n",
       "      <td>122.510002</td>\n",
       "      <td>115.739998</td>\n",
       "      <td>122.269997</td>\n",
       "      <td>121.842400</td>\n",
       "      <td>26264200</td>\n",
       "    </tr>\n",
       "    <tr>\n",
       "      <th>2023-06-15</th>\n",
       "      <td>121.949997</td>\n",
       "      <td>127.540001</td>\n",
       "      <td>121.660004</td>\n",
       "      <td>126.550003</td>\n",
       "      <td>126.107445</td>\n",
       "      <td>27476700</td>\n",
       "    </tr>\n",
       "    <tr>\n",
       "      <th>2023-06-16</th>\n",
       "      <td>127.139999</td>\n",
       "      <td>127.400002</td>\n",
       "      <td>125.150002</td>\n",
       "      <td>125.459999</td>\n",
       "      <td>125.021248</td>\n",
       "      <td>19511500</td>\n",
       "    </tr>\n",
       "    <tr>\n",
       "      <th>2023-06-20</th>\n",
       "      <td>124.449997</td>\n",
       "      <td>125.250000</td>\n",
       "      <td>121.959999</td>\n",
       "      <td>122.040001</td>\n",
       "      <td>121.613213</td>\n",
       "      <td>16273000</td>\n",
       "    </tr>\n",
       "    <tr>\n",
       "      <th>2023-06-21</th>\n",
       "      <td>121.949997</td>\n",
       "      <td>123.360001</td>\n",
       "      <td>120.360001</td>\n",
       "      <td>122.099998</td>\n",
       "      <td>121.672997</td>\n",
       "      <td>17583000</td>\n",
       "    </tr>\n",
       "  </tbody>\n",
       "</table>\n",
       "<p>251 rows × 6 columns</p>\n",
       "</div>"
      ],
      "text/plain": [
       "                  Open        High         Low       Close   Adj Close  \\\n",
       "Date                                                                     \n",
       "2022-06-22   66.930000   67.570000   66.379997   66.529999   65.146484   \n",
       "2022-06-23   66.449997   67.870003   66.309998   67.629997   66.223610   \n",
       "2022-06-24   68.330002   70.779999   67.970001   70.699997   69.229767   \n",
       "2022-06-27   69.370003   70.849998   68.940002   70.410004   68.945801   \n",
       "2022-06-28   70.570000   71.070000   68.529999   68.580002   67.153862   \n",
       "...                ...         ...         ...         ...         ...   \n",
       "2023-06-14  116.500000  122.510002  115.739998  122.269997  121.842400   \n",
       "2023-06-15  121.949997  127.540001  121.660004  126.550003  126.107445   \n",
       "2023-06-16  127.139999  127.400002  125.150002  125.459999  125.021248   \n",
       "2023-06-20  124.449997  125.250000  121.959999  122.040001  121.613213   \n",
       "2023-06-21  121.949997  123.360001  120.360001  122.099998  121.672997   \n",
       "\n",
       "              Volume  \n",
       "Date                  \n",
       "2022-06-22   8219900  \n",
       "2022-06-23   8775800  \n",
       "2022-06-24  20132600  \n",
       "2022-06-27   8840600  \n",
       "2022-06-28   7252100  \n",
       "...              ...  \n",
       "2023-06-14  26264200  \n",
       "2023-06-15  27476700  \n",
       "2023-06-16  19511500  \n",
       "2023-06-20  16273000  \n",
       "2023-06-21  17583000  \n",
       "\n",
       "[251 rows x 6 columns]"
      ]
     },
     "execution_count": 3,
     "metadata": {},
     "output_type": "execute_result"
    }
   ],
   "source": [
    "df\n"
   ]
  },
  {
   "cell_type": "code",
   "execution_count": 4,
   "id": "511df3a8",
   "metadata": {},
   "outputs": [
    {
     "data": {
      "text/plain": [
       "DatetimeIndex(['2022-06-22', '2022-06-23', '2022-06-24', '2022-06-27',\n",
       "               '2022-06-28', '2022-06-29', '2022-06-30', '2022-07-01',\n",
       "               '2022-07-05', '2022-07-06',\n",
       "               ...\n",
       "               '2023-06-07', '2023-06-08', '2023-06-09', '2023-06-12',\n",
       "               '2023-06-13', '2023-06-14', '2023-06-15', '2023-06-16',\n",
       "               '2023-06-20', '2023-06-21'],\n",
       "              dtype='datetime64[ns]', name='Date', length=251, freq=None)"
      ]
     },
     "execution_count": 4,
     "metadata": {},
     "output_type": "execute_result"
    }
   ],
   "source": [
    "df.index"
   ]
  },
  {
   "cell_type": "markdown",
   "id": "3abffd37",
   "metadata": {},
   "source": [
    "# Plotting the data"
   ]
  },
  {
   "cell_type": "code",
   "execution_count": 5,
   "id": "70c7df8c",
   "metadata": {},
   "outputs": [
    {
     "data": {
      "text/plain": [
       "<AxesSubplot:xlabel='Date'>"
      ]
     },
     "execution_count": 5,
     "metadata": {},
     "output_type": "execute_result"
    },
    {
     "data": {
      "image/png": "[encoded data removed]",
      "text/plain": [
       "<Figure size 640x480 with 1 Axes>"
      ]
     },
     "metadata": {},
     "output_type": "display_data"
    }
   ],
   "source": [
    "df.plot.line(y=\"Close\", use_index=True)"
   ]
  },
  {
   "cell_type": "code",
   "execution_count": 6,
   "id": "e38bad0e",
   "metadata": {},
   "outputs": [
    {
     "name": "stdout",
     "output_type": "stream",
     "text": [
      "             Open        High         Low       Close   Adj Close  \\\n",
      "count  251.000000  251.000000  251.000000  251.000000  251.000000   \n",
      "mean    83.358884   84.360757   82.611235   83.570598   82.738603   \n",
      "std     12.453277   12.627331   12.369649   12.542082   12.799307   \n",
      "min     60.990002   62.139999   60.779999   61.070000   60.067478   \n",
      "25%     74.810001   75.875000   74.290001   74.965000   74.016968   \n",
      "50%     81.330002   82.209999   80.610001   81.500000   80.574173   \n",
      "75%     89.505001   90.494999   88.750000   89.719997   89.033401   \n",
      "max    127.139999  127.540001  125.150002  126.550003  126.107445   \n",
      "\n",
      "             Volume  \n",
      "count  2.510000e+02  \n",
      "mean   8.231682e+06  \n",
      "std    4.849350e+06  \n",
      "min    2.754900e+06  \n",
      "25%    5.674300e+06  \n",
      "50%    7.053000e+06  \n",
      "75%    8.818400e+06  \n",
      "max    3.919090e+07  \n"
     ]
    }
   ],
   "source": [
    "print(df.describe())\n"
   ]
  },
  {
   "cell_type": "markdown",
   "id": "f0790c81",
   "metadata": {},
   "source": [
    "# Keeping only the required columns"
   ]
  },
  {
   "cell_type": "code",
   "execution_count": 7,
   "id": "933ec667",
   "metadata": {},
   "outputs": [],
   "source": [
    "\n",
    "df = df[[\"Close\"]]"
   ]
  },
  {
   "cell_type": "code",
   "execution_count": 8,
   "id": "b55a5d57",
   "metadata": {},
   "outputs": [
    {
     "data": {
      "text/html": [
       "<div>\n",
       "<style scoped>\n",
       "    .dataframe tbody tr th:only-of-type {\n",
       "        vertical-align: middle;\n",
       "    }\n",
       "\n",
       "    .dataframe tbody tr th {\n",
       "        vertical-align: top;\n",
       "    }\n",
       "\n",
       "    .dataframe thead th {\n",
       "        text-align: right;\n",
       "    }\n",
       "</style>\n",
       "<table border=\"1\" class=\"dataframe\">\n",
       "  <thead>\n",
       "    <tr style=\"text-align: right;\">\n",
       "      <th></th>\n",
       "      <th>Close</th>\n",
       "    </tr>\n",
       "    <tr>\n",
       "      <th>Date</th>\n",
       "      <th></th>\n",
       "    </tr>\n",
       "  </thead>\n",
       "  <tbody>\n",
       "    <tr>\n",
       "      <th>2022-06-22</th>\n",
       "      <td>66.529999</td>\n",
       "    </tr>\n",
       "    <tr>\n",
       "      <th>2022-06-23</th>\n",
       "      <td>67.629997</td>\n",
       "    </tr>\n",
       "    <tr>\n",
       "      <th>2022-06-24</th>\n",
       "      <td>70.699997</td>\n",
       "    </tr>\n",
       "    <tr>\n",
       "      <th>2022-06-27</th>\n",
       "      <td>70.410004</td>\n",
       "    </tr>\n",
       "    <tr>\n",
       "      <th>2022-06-28</th>\n",
       "      <td>68.580002</td>\n",
       "    </tr>\n",
       "    <tr>\n",
       "      <th>...</th>\n",
       "      <td>...</td>\n",
       "    </tr>\n",
       "    <tr>\n",
       "      <th>2023-06-14</th>\n",
       "      <td>122.269997</td>\n",
       "    </tr>\n",
       "    <tr>\n",
       "      <th>2023-06-15</th>\n",
       "      <td>126.550003</td>\n",
       "    </tr>\n",
       "    <tr>\n",
       "      <th>2023-06-16</th>\n",
       "      <td>125.459999</td>\n",
       "    </tr>\n",
       "    <tr>\n",
       "      <th>2023-06-20</th>\n",
       "      <td>122.040001</td>\n",
       "    </tr>\n",
       "    <tr>\n",
       "      <th>2023-06-21</th>\n",
       "      <td>122.099998</td>\n",
       "    </tr>\n",
       "  </tbody>\n",
       "</table>\n",
       "<p>251 rows × 1 columns</p>\n",
       "</div>"
      ],
      "text/plain": [
       "                 Close\n",
       "Date                  \n",
       "2022-06-22   66.529999\n",
       "2022-06-23   67.629997\n",
       "2022-06-24   70.699997\n",
       "2022-06-27   70.410004\n",
       "2022-06-28   68.580002\n",
       "...                ...\n",
       "2023-06-14  122.269997\n",
       "2023-06-15  126.550003\n",
       "2023-06-16  125.459999\n",
       "2023-06-20  122.040001\n",
       "2023-06-21  122.099998\n",
       "\n",
       "[251 rows x 1 columns]"
      ]
     },
     "execution_count": 8,
     "metadata": {},
     "output_type": "execute_result"
    }
   ],
   "source": [
    "df"
   ]
  },
  {
   "cell_type": "code",
   "execution_count": 9,
   "id": "d1a034b4",
   "metadata": {},
   "outputs": [
    {
     "name": "stdout",
     "output_type": "stream",
     "text": [
      "            Close\n",
      "count  251.000000\n",
      "mean    83.570598\n",
      "std     12.542082\n",
      "min     61.070000\n",
      "25%     74.965000\n",
      "50%     81.500000\n",
      "75%     89.719997\n",
      "max    126.550003\n"
     ]
    }
   ],
   "source": [
    "print(df.describe())"
   ]
  },
  {
   "cell_type": "markdown",
   "id": "7a5efa4e",
   "metadata": {},
   "source": [
    "# Adding technical indicators"
   ]
  },
  {
   "cell_type": "code",
   "execution_count": 10,
   "id": "b3214001",
   "metadata": {},
   "outputs": [],
   "source": [
    "import pandas_ta"
   ]
  },
  {
   "cell_type": "code",
   "execution_count": 11,
   "id": "9d5e89e9",
   "metadata": {
    "scrolled": false
   },
   "outputs": [
    {
     "data": {
      "text/html": [
       "<div>\n",
       "<style scoped>\n",
       "    .dataframe tbody tr th:only-of-type {\n",
       "        vertical-align: middle;\n",
       "    }\n",
       "\n",
       "    .dataframe tbody tr th {\n",
       "        vertical-align: top;\n",
       "    }\n",
       "\n",
       "    .dataframe thead th {\n",
       "        text-align: right;\n",
       "    }\n",
       "</style>\n",
       "<table border=\"1\" class=\"dataframe\">\n",
       "  <thead>\n",
       "    <tr style=\"text-align: right;\">\n",
       "      <th></th>\n",
       "      <th>Close</th>\n",
       "      <th>EMA_10</th>\n",
       "    </tr>\n",
       "    <tr>\n",
       "      <th>Date</th>\n",
       "      <th></th>\n",
       "      <th></th>\n",
       "    </tr>\n",
       "  </thead>\n",
       "  <tbody>\n",
       "    <tr>\n",
       "      <th>2022-06-22</th>\n",
       "      <td>66.529999</td>\n",
       "      <td>NaN</td>\n",
       "    </tr>\n",
       "    <tr>\n",
       "      <th>2022-06-23</th>\n",
       "      <td>67.629997</td>\n",
       "      <td>NaN</td>\n",
       "    </tr>\n",
       "    <tr>\n",
       "      <th>2022-06-24</th>\n",
       "      <td>70.699997</td>\n",
       "      <td>NaN</td>\n",
       "    </tr>\n",
       "    <tr>\n",
       "      <th>2022-06-27</th>\n",
       "      <td>70.410004</td>\n",
       "      <td>NaN</td>\n",
       "    </tr>\n",
       "    <tr>\n",
       "      <th>2022-06-28</th>\n",
       "      <td>68.580002</td>\n",
       "      <td>NaN</td>\n",
       "    </tr>\n",
       "    <tr>\n",
       "      <th>...</th>\n",
       "      <td>...</td>\n",
       "      <td>...</td>\n",
       "    </tr>\n",
       "    <tr>\n",
       "      <th>2023-06-14</th>\n",
       "      <td>122.269997</td>\n",
       "      <td>111.887190</td>\n",
       "    </tr>\n",
       "    <tr>\n",
       "      <th>2023-06-15</th>\n",
       "      <td>126.550003</td>\n",
       "      <td>114.553156</td>\n",
       "    </tr>\n",
       "    <tr>\n",
       "      <th>2023-06-16</th>\n",
       "      <td>125.459999</td>\n",
       "      <td>116.536219</td>\n",
       "    </tr>\n",
       "    <tr>\n",
       "      <th>2023-06-20</th>\n",
       "      <td>122.040001</td>\n",
       "      <td>117.536906</td>\n",
       "    </tr>\n",
       "    <tr>\n",
       "      <th>2023-06-21</th>\n",
       "      <td>122.099998</td>\n",
       "      <td>118.366559</td>\n",
       "    </tr>\n",
       "  </tbody>\n",
       "</table>\n",
       "<p>251 rows × 2 columns</p>\n",
       "</div>"
      ],
      "text/plain": [
       "                 Close      EMA_10\n",
       "Date                              \n",
       "2022-06-22   66.529999         NaN\n",
       "2022-06-23   67.629997         NaN\n",
       "2022-06-24   70.699997         NaN\n",
       "2022-06-27   70.410004         NaN\n",
       "2022-06-28   68.580002         NaN\n",
       "...                ...         ...\n",
       "2023-06-14  122.269997  111.887190\n",
       "2023-06-15  126.550003  114.553156\n",
       "2023-06-16  125.459999  116.536219\n",
       "2023-06-20  122.040001  117.536906\n",
       "2023-06-21  122.099998  118.366559\n",
       "\n",
       "[251 rows x 2 columns]"
      ]
     },
     "execution_count": 11,
     "metadata": {},
     "output_type": "execute_result"
    }
   ],
   "source": [
    "#Appending EMA(Estimated Moving Average) column to dataframe by appending\n",
    "df.ta.ema(close='close', length = 10, append = True)\n",
    "df"
   ]
  },
  {
   "cell_type": "code",
   "execution_count": 12,
   "id": "6a541912",
   "metadata": {},
   "outputs": [
    {
     "name": "stdout",
     "output_type": "stream",
     "text": [
      "<class 'pandas.core.frame.DataFrame'>\n",
      "DatetimeIndex: 251 entries, 2022-06-22 to 2023-06-21\n",
      "Data columns (total 2 columns):\n",
      " #   Column  Non-Null Count  Dtype  \n",
      "---  ------  --------------  -----  \n",
      " 0   Close   251 non-null    float64\n",
      " 1   EMA_10  242 non-null    float64\n",
      "dtypes: float64(2)\n",
      "memory usage: 5.9 KB\n",
      "None\n"
     ]
    }
   ],
   "source": [
    "print(df.info())"
   ]
  },
  {
   "cell_type": "markdown",
   "id": "71dd3608",
   "metadata": {},
   "source": [
    "# Checking and visualizing correlation"
   ]
  },
  {
   "cell_type": "code",
   "execution_count": 13,
   "id": "926462d7",
   "metadata": {},
   "outputs": [
    {
     "data": {
      "image/png": "[encoded data removed]",
      "text/plain": [
       "<Figure size 640x480 with 1 Axes>"
      ]
     },
     "metadata": {},
     "output_type": "display_data"
    }
   ],
   "source": [
    "plt.scatter(df['Close'], df['EMA_10'])\n",
    "plt.grid()\n",
    "plt.show()"
   ]
  },
  {
   "cell_type": "code",
   "execution_count": 14,
   "id": "3309e639",
   "metadata": {},
   "outputs": [
    {
     "name": "stdout",
     "output_type": "stream",
     "text": [
      "           Close    EMA_10\n",
      "Close   1.000000  0.985813\n",
      "EMA_10  0.985813  1.000000\n"
     ]
    },
    {
     "data": {
      "image/png": "[encoded data removed]",
      "text/plain": [
       "<Figure size 400x200 with 2 Axes>"
      ]
     },
     "metadata": {},
     "output_type": "display_data"
    }
   ],
   "source": [
    "print(df.corr())\n",
    "plt.figure(figsize=(4,2))\n",
    "sns.heatmap(df.corr(), cmap=\"Greens\", annot=True)\n",
    "plt.show()"
   ]
  },
  {
   "cell_type": "code",
   "execution_count": 15,
   "id": "691065a4",
   "metadata": {},
   "outputs": [
    {
     "data": {
      "text/plain": [
       "<seaborn.axisgrid.PairGrid at 0x1f8a6609148>"
      ]
     },
     "execution_count": 15,
     "metadata": {},
     "output_type": "execute_result"
    },
    {
     "data": {
      "image/png": "[encoded data removed]",
      "text/plain": [
       "<Figure size 500x500 with 6 Axes>"
      ]
     },
     "metadata": {},
     "output_type": "display_data"
    }
   ],
   "source": [
    "sns.pairplot(df)"
   ]
  },
  {
   "cell_type": "markdown",
   "id": "6dfe0b98",
   "metadata": {},
   "source": [
    "# Removing NULL values from DataFrame"
   ]
  },
  {
   "cell_type": "code",
   "execution_count": 16,
   "id": "434b30db",
   "metadata": {},
   "outputs": [
    {
     "data": {
      "text/html": [
       "<div>\n",
       "<style scoped>\n",
       "    .dataframe tbody tr th:only-of-type {\n",
       "        vertical-align: middle;\n",
       "    }\n",
       "\n",
       "    .dataframe tbody tr th {\n",
       "        vertical-align: top;\n",
       "    }\n",
       "\n",
       "    .dataframe thead th {\n",
       "        text-align: right;\n",
       "    }\n",
       "</style>\n",
       "<table border=\"1\" class=\"dataframe\">\n",
       "  <thead>\n",
       "    <tr style=\"text-align: right;\">\n",
       "      <th></th>\n",
       "      <th>Close</th>\n",
       "      <th>EMA_10</th>\n",
       "    </tr>\n",
       "    <tr>\n",
       "      <th>Date</th>\n",
       "      <th></th>\n",
       "      <th></th>\n",
       "    </tr>\n",
       "  </thead>\n",
       "  <tbody>\n",
       "    <tr>\n",
       "      <th>2022-07-07</th>\n",
       "      <td>71.830002</td>\n",
       "      <td>70.124092</td>\n",
       "    </tr>\n",
       "    <tr>\n",
       "      <th>2022-07-08</th>\n",
       "      <td>71.870003</td>\n",
       "      <td>70.441530</td>\n",
       "    </tr>\n",
       "    <tr>\n",
       "      <th>2022-07-11</th>\n",
       "      <td>71.570000</td>\n",
       "      <td>70.646706</td>\n",
       "    </tr>\n",
       "    <tr>\n",
       "      <th>2022-07-12</th>\n",
       "      <td>70.410004</td>\n",
       "      <td>70.603669</td>\n",
       "    </tr>\n",
       "    <tr>\n",
       "      <th>2022-07-13</th>\n",
       "      <td>70.029999</td>\n",
       "      <td>70.499366</td>\n",
       "    </tr>\n",
       "    <tr>\n",
       "      <th>...</th>\n",
       "      <td>...</td>\n",
       "      <td>...</td>\n",
       "    </tr>\n",
       "    <tr>\n",
       "      <th>2023-06-14</th>\n",
       "      <td>122.269997</td>\n",
       "      <td>111.887190</td>\n",
       "    </tr>\n",
       "    <tr>\n",
       "      <th>2023-06-15</th>\n",
       "      <td>126.550003</td>\n",
       "      <td>114.553156</td>\n",
       "    </tr>\n",
       "    <tr>\n",
       "      <th>2023-06-16</th>\n",
       "      <td>125.459999</td>\n",
       "      <td>116.536219</td>\n",
       "    </tr>\n",
       "    <tr>\n",
       "      <th>2023-06-20</th>\n",
       "      <td>122.040001</td>\n",
       "      <td>117.536906</td>\n",
       "    </tr>\n",
       "    <tr>\n",
       "      <th>2023-06-21</th>\n",
       "      <td>122.099998</td>\n",
       "      <td>118.366559</td>\n",
       "    </tr>\n",
       "  </tbody>\n",
       "</table>\n",
       "<p>241 rows × 2 columns</p>\n",
       "</div>"
      ],
      "text/plain": [
       "                 Close      EMA_10\n",
       "Date                              \n",
       "2022-07-07   71.830002   70.124092\n",
       "2022-07-08   71.870003   70.441530\n",
       "2022-07-11   71.570000   70.646706\n",
       "2022-07-12   70.410004   70.603669\n",
       "2022-07-13   70.029999   70.499366\n",
       "...                ...         ...\n",
       "2023-06-14  122.269997  111.887190\n",
       "2023-06-15  126.550003  114.553156\n",
       "2023-06-16  125.459999  116.536219\n",
       "2023-06-20  122.040001  117.536906\n",
       "2023-06-21  122.099998  118.366559\n",
       "\n",
       "[241 rows x 2 columns]"
      ]
     },
     "execution_count": 16,
     "metadata": {},
     "output_type": "execute_result"
    }
   ],
   "source": [
    "# Dropping the first n (10 in this case) rows \n",
    "df=df.iloc[10:]\n",
    "df"
   ]
  },
  {
   "cell_type": "code",
   "execution_count": 17,
   "id": "cfb6ea94",
   "metadata": {},
   "outputs": [
    {
     "name": "stdout",
     "output_type": "stream",
     "text": [
      "<class 'pandas.core.frame.DataFrame'>\n",
      "DatetimeIndex: 241 entries, 2022-07-07 to 2023-06-21\n",
      "Data columns (total 2 columns):\n",
      " #   Column  Non-Null Count  Dtype  \n",
      "---  ------  --------------  -----  \n",
      " 0   Close   241 non-null    float64\n",
      " 1   EMA_10  241 non-null    float64\n",
      "dtypes: float64(2)\n",
      "memory usage: 5.6 KB\n",
      "None\n"
     ]
    }
   ],
   "source": [
    "print(df.info())"
   ]
  },
  {
   "cell_type": "code",
   "execution_count": 18,
   "id": "42c3431e",
   "metadata": {},
   "outputs": [
    {
     "data": {
      "image/png": "[encoded data removed]",
      "text/plain": [
       "<Figure size 640x480 with 1 Axes>"
      ]
     },
     "metadata": {},
     "output_type": "display_data"
    }
   ],
   "source": [
    "plt.plot(df)\n",
    "plt.legend(df)\n",
    "plt.show()"
   ]
  },
  {
   "cell_type": "markdown",
   "id": "2a2000a3",
   "metadata": {},
   "source": [
    "# Splitting the data"
   ]
  },
  {
   "cell_type": "code",
   "execution_count": 19,
   "id": "366999f5",
   "metadata": {
    "scrolled": true
   },
   "outputs": [],
   "source": [
    "from sklearn.model_selection import train_test_split\n",
    "\n",
    "#Using an 80-20 split into training and testing sets\n",
    "\n",
    "var1 = df[['Close']] #Independent Variable\n",
    "var2 = df[['EMA_10']] #Dependent Variable\n",
    "\n",
    "X_train, X_test, y_train, y_test = train_test_split(var1, var2, test_size=.2)"
   ]
  },
  {
   "cell_type": "code",
   "execution_count": 20,
   "id": "38d40513",
   "metadata": {},
   "outputs": [
    {
     "name": "stdout",
     "output_type": "stream",
     "text": [
      "            Close\n",
      "count  192.000000\n",
      "mean    84.868125\n",
      "std     12.815447\n",
      "min     61.400002\n",
      "25%     76.432499\n",
      "50%     83.189999\n",
      "75%     90.537502\n",
      "max    126.550003\n",
      "\n",
      "           EMA_10\n",
      "count  192.000000\n",
      "mean    83.908141\n",
      "std     11.549177\n",
      "min     63.925228\n",
      "25%     75.482526\n",
      "50%     81.522760\n",
      "75%     88.847421\n",
      "max    118.366559\n"
     ]
    }
   ],
   "source": [
    "#training set\n",
    "print(X_train.describe())\n",
    "print()\n",
    "print(y_train.describe())"
   ]
  },
  {
   "cell_type": "code",
   "execution_count": 21,
   "id": "1dd5dd5f",
   "metadata": {},
   "outputs": [
    {
     "name": "stdout",
     "output_type": "stream",
     "text": [
      "            Close\n",
      "count   49.000000\n",
      "mean    81.307959\n",
      "std     10.649305\n",
      "min     61.070000\n",
      "25%     74.860001\n",
      "50%     81.389999\n",
      "75%     88.599998\n",
      "max    102.339996\n",
      "\n",
      "          EMA_10\n",
      "count  49.000000\n",
      "mean   80.604285\n",
      "std    10.297207\n",
      "min    63.957502\n",
      "25%    72.735666\n",
      "50%    80.543125\n",
      "75%    88.110975\n",
      "max    99.233676\n"
     ]
    }
   ],
   "source": [
    "#test set\n",
    "print(X_test.describe())\n",
    "print()\n",
    "print(y_test.describe())"
   ]
  },
  {
   "cell_type": "markdown",
   "id": "04976fd9",
   "metadata": {},
   "source": [
    "# Training the model"
   ]
  },
  {
   "cell_type": "code",
   "execution_count": 22,
   "id": "271c00ce",
   "metadata": {},
   "outputs": [
    {
     "data": {
      "text/plain": [
       "array([[67.16232793],\n",
       "       [97.15489114],\n",
       "       [84.6120671 ],\n",
       "       [92.79912985],\n",
       "       [99.43944606],\n",
       "       [67.80236004],\n",
       "       [74.82492406],\n",
       "       [75.01159896],\n",
       "       [83.41200349],\n",
       "       [75.40273121],\n",
       "       [92.76357175],\n",
       "       [72.68259473],\n",
       "       [88.23890443],\n",
       "       [85.54544161],\n",
       "       [68.04236869],\n",
       "       [84.86096697],\n",
       "       [72.35369423],\n",
       "       [92.71912244],\n",
       "       [86.49659856],\n",
       "       [95.44814336],\n",
       "       [73.09150263],\n",
       "       [85.49210786],\n",
       "       [87.22552251],\n",
       "       [75.24272318],\n",
       "       [70.02469   ],\n",
       "       [87.57220544],\n",
       "       [83.96314376],\n",
       "       [95.86594247],\n",
       "       [77.2250377 ],\n",
       "       [78.38954321],\n",
       "       [87.01218074],\n",
       "       [84.25649295],\n",
       "       [77.39393695],\n",
       "       [76.38944625],\n",
       "       [62.7532261 ],\n",
       "       [77.26948702],\n",
       "       [87.95444647],\n",
       "       [77.86506982],\n",
       "       [64.53998129],\n",
       "       [75.04715706],\n",
       "       [91.8124148 ],\n",
       "       [75.72274726],\n",
       "       [80.81632373],\n",
       "       [81.19856475],\n",
       "       [80.91410679],\n",
       "       [66.86009431],\n",
       "       [63.9443951 ],\n",
       "       [80.07850856],\n",
       "       [93.73250436]])"
      ]
     },
     "execution_count": 22,
     "metadata": {},
     "output_type": "execute_result"
    }
   ],
   "source": [
    "from sklearn.linear_model import LinearRegression\n",
    "\n",
    "#Creating the regression model\n",
    "model = LinearRegression()\n",
    "\n",
    "#Training the model\n",
    "model.fit(X_train, y_train)\n",
    "\n",
    "#Using model to make predictions\n",
    "y_pred = model.predict(X_test)\n",
    "y_pred\n"
   ]
  },
  {
   "cell_type": "markdown",
   "id": "b959b48f",
   "metadata": {},
   "source": [
    "# Vaildation of the model"
   ]
  },
  {
   "cell_type": "code",
   "execution_count": 23,
   "id": "8d429806",
   "metadata": {
    "scrolled": false
   },
   "outputs": [
    {
     "name": "stdout",
     "output_type": "stream",
     "text": [
      "Model Coefficients: [[0.88893198]]\n",
      "Mean Absolute Error: 1.4956589226492643\n",
      "Coefficient of Determination: 0.9630082630963523\n",
      "Root Mean Squared Error: 1.9601728429858436\n",
      "Intercept [8.46615016]\n"
     ]
    }
   ],
   "source": [
    "from sklearn.metrics import mean_squared_error, r2_score, mean_absolute_error\n",
    "print(\"Model Coefficients:\", model.coef_)\n",
    "print(\"Mean Absolute Error:\", mean_absolute_error(y_test, y_pred))\n",
    "print(\"Coefficient of Determination:\", r2_score(y_test, y_pred))\n",
    "print(\"Root Mean Squared Error:\", math.sqrt(mean_squared_error(y_test, y_pred)))\n",
    "print(\"Intercept\", model.intercept_)\n"
   ]
  },
  {
   "cell_type": "code",
   "execution_count": 24,
   "id": "eba399d6",
   "metadata": {},
   "outputs": [
    {
     "data": {
      "text/plain": [
       "<Figure size 100x100 with 0 Axes>"
      ]
     },
     "execution_count": 24,
     "metadata": {},
     "output_type": "execute_result"
    },
    {
     "data": {
      "image/png": "[encoded data removed]",
      "text/plain": [
       "<Figure size 640x480 with 1 Axes>"
      ]
     },
     "metadata": {},
     "output_type": "display_data"
    },
    {
     "data": {
      "text/plain": [
       "<Figure size 100x100 with 0 Axes>"
      ]
     },
     "metadata": {},
     "output_type": "display_data"
    }
   ],
   "source": [
    "#Testing data accuracy (With test set)\n",
    "\n",
    "plt.scatter(X_test, y_test, color = 'red', edgecolor='black',linewidth=0.1, label = 'Real Values', s=20)\n",
    "plt.plot(X_test, model.predict(X_test), label = 'Predicted Values')\n",
    "plt.grid()\n",
    "plt.legend()\n",
    "plt.xlabel('Close')\n",
    "plt.ylabel('EMA_10')\n",
    "plt.figure(figsize=(1, 1))"
   ]
  },
  {
   "cell_type": "code",
   "execution_count": 25,
   "id": "4e41f4dd",
   "metadata": {},
   "outputs": [
    {
     "data": {
      "text/plain": [
       "<Figure size 100x100 with 0 Axes>"
      ]
     },
     "execution_count": 25,
     "metadata": {},
     "output_type": "execute_result"
    },
    {
     "data": {
      "image/png": "[encoded data removed]",
      "text/plain": [
       "<Figure size 640x480 with 1 Axes>"
      ]
     },
     "metadata": {},
     "output_type": "display_data"
    },
    {
     "data": {
      "text/plain": [
       "<Figure size 100x100 with 0 Axes>"
      ]
     },
     "metadata": {},
     "output_type": "display_data"
    }
   ],
   "source": [
    "#Testing data accuracy (With training set)\n",
    "\n",
    "plt.scatter(X_train, y_train, color = 'red', edgecolor='black',linewidth=0.1, label = 'Real Values', s=20)\n",
    "plt.plot(X_train, model.predict(X_train), label = 'Predicted Values')\n",
    "plt.grid()\n",
    "plt.legend()\n",
    "plt.xlabel('Close')\n",
    "plt.ylabel('EMA_10')\n",
    "plt.figure(figsize=(1, 1))"
   ]
  },
  {
   "cell_type": "code",
   "execution_count": 26,
   "id": "fb48ea8c",
   "metadata": {},
   "outputs": [
    {
     "data": {
      "text/plain": [
       "<AxesSubplot:title={'center':'Distribution of Residuals'}, ylabel='Density'>"
      ]
     },
     "execution_count": 26,
     "metadata": {},
     "output_type": "execute_result"
    },
    {
     "data": {
      "image/png": "[encoded data removed]",
      "text/plain": [
       "<Figure size 600x300 with 1 Axes>"
      ]
     },
     "metadata": {},
     "output_type": "display_data"
    }
   ],
   "source": [
    "#Residual Plot\n",
    "residual_model = y_pred - y_test\n",
    "plt.subplots(figsize=(6, 3))\n",
    "plt.title(\"Distribution of Residuals\")\n",
    "sns.distplot(residual_model)"
   ]
  },
  {
   "cell_type": "markdown",
   "id": "1dfb319f",
   "metadata": {},
   "source": [
    "# Comparing Real v/s Predicted Values"
   ]
  },
  {
   "cell_type": "code",
   "execution_count": 27,
   "id": "058df0ef",
   "metadata": {},
   "outputs": [
    {
     "data": {
      "text/html": [
       "<div>\n",
       "<style scoped>\n",
       "    .dataframe tbody tr th:only-of-type {\n",
       "        vertical-align: middle;\n",
       "    }\n",
       "\n",
       "    .dataframe tbody tr th {\n",
       "        vertical-align: top;\n",
       "    }\n",
       "\n",
       "    .dataframe thead th {\n",
       "        text-align: right;\n",
       "    }\n",
       "</style>\n",
       "<table border=\"1\" class=\"dataframe\">\n",
       "  <thead>\n",
       "    <tr style=\"text-align: right;\">\n",
       "      <th></th>\n",
       "      <th>Actual_Values</th>\n",
       "      <th>Predicted_Values</th>\n",
       "    </tr>\n",
       "    <tr>\n",
       "      <th>Date</th>\n",
       "      <th></th>\n",
       "      <th></th>\n",
       "    </tr>\n",
       "  </thead>\n",
       "  <tbody>\n",
       "    <tr>\n",
       "      <th>2022-09-22</th>\n",
       "      <td>69.877872</td>\n",
       "      <td>67.162328</td>\n",
       "    </tr>\n",
       "    <tr>\n",
       "      <th>2023-05-17</th>\n",
       "      <td>97.456459</td>\n",
       "      <td>97.154891</td>\n",
       "    </tr>\n",
       "    <tr>\n",
       "      <th>2023-01-06</th>\n",
       "      <td>83.025477</td>\n",
       "      <td>84.612067</td>\n",
       "    </tr>\n",
       "    <tr>\n",
       "      <th>2023-05-01</th>\n",
       "      <td>94.736874</td>\n",
       "      <td>92.799130</td>\n",
       "    </tr>\n",
       "    <tr>\n",
       "      <th>2023-05-18</th>\n",
       "      <td>98.344375</td>\n",
       "      <td>99.439446</td>\n",
       "    </tr>\n",
       "    <tr>\n",
       "      <th>2022-09-21</th>\n",
       "      <td>70.732955</td>\n",
       "      <td>67.802360</td>\n",
       "    </tr>\n",
       "    <tr>\n",
       "      <th>2022-09-08</th>\n",
       "      <td>74.946139</td>\n",
       "      <td>74.824924</td>\n",
       "    </tr>\n",
       "    <tr>\n",
       "      <th>2022-07-25</th>\n",
       "      <td>72.735666</td>\n",
       "      <td>75.011599</td>\n",
       "    </tr>\n",
       "    <tr>\n",
       "      <th>2023-01-05</th>\n",
       "      <td>82.440026</td>\n",
       "      <td>83.412003</td>\n",
       "    </tr>\n",
       "    <tr>\n",
       "      <th>2022-09-01</th>\n",
       "      <td>75.580002</td>\n",
       "      <td>75.402731</td>\n",
       "    </tr>\n",
       "  </tbody>\n",
       "</table>\n",
       "</div>"
      ],
      "text/plain": [
       "            Actual_Values  Predicted_Values\n",
       "Date                                       \n",
       "2022-09-22      69.877872         67.162328\n",
       "2023-05-17      97.456459         97.154891\n",
       "2023-01-06      83.025477         84.612067\n",
       "2023-05-01      94.736874         92.799130\n",
       "2023-05-18      98.344375         99.439446\n",
       "2022-09-21      70.732955         67.802360\n",
       "2022-09-08      74.946139         74.824924\n",
       "2022-07-25      72.735666         75.011599\n",
       "2023-01-05      82.440026         83.412003\n",
       "2022-09-01      75.580002         75.402731"
      ]
     },
     "execution_count": 27,
     "metadata": {},
     "output_type": "execute_result"
    }
   ],
   "source": [
    "comparison = y_test\n",
    "comparison['predictions'] = y_pred\n",
    "comparison = comparison.rename(columns={\"EMA_10\": \"Actual_Values\",\"predictions\": \"Predicted_Values\"})\n",
    "comparison.head(10)"
   ]
  },
  {
   "cell_type": "code",
   "execution_count": 28,
   "id": "fe42d16f",
   "metadata": {},
   "outputs": [
    {
     "data": {
      "text/plain": [
       "<AxesSubplot:xlabel='Date', ylabel='Prices'>"
      ]
     },
     "execution_count": 28,
     "metadata": {},
     "output_type": "execute_result"
    },
    {
     "data": {
      "image/png": "[encoded data removed]",
      "text/plain": [
       "<Figure size 640x480 with 1 Axes>"
      ]
     },
     "metadata": {},
     "output_type": "display_data"
    }
   ],
   "source": [
    "graph = comparison.head(15)\n",
    "graph.plot(kind='bar', ylabel='Prices')\n"
   ]
  },
  {
   "cell_type": "code",
   "execution_count": 29,
   "id": "588718a3",
   "metadata": {},
   "outputs": [
    {
     "data": {
      "text/plain": [
       "<AxesSubplot:xlabel='Date'>"
      ]
     },
     "execution_count": 29,
     "metadata": {},
     "output_type": "execute_result"
    },
    {
     "data": {
      "image/png": "[encoded data removed]",
      "text/plain": [
       "<Figure size 640x480 with 1 Axes>"
      ]
     },
     "metadata": {},
     "output_type": "display_data"
    }
   ],
   "source": [
    "comparison.plot.line()"
   ]
  },
  {
   "cell_type": "code",
   "execution_count": 30,
   "id": "b484f576",
   "metadata": {},
   "outputs": [],
   "source": [
    "import math\n",
    "x2=abs(y_pred-y_test)\n",
    "x2 = x2.drop(['predictions'], axis=1)"
   ]
  },
  {
   "cell_type": "code",
   "execution_count": 31,
   "id": "a96b6d7b",
   "metadata": {},
   "outputs": [],
   "source": [
    "y_test = y_test.drop(['predictions'], axis = 1)"
   ]
  },
  {
   "cell_type": "code",
   "execution_count": 32,
   "id": "fcbb46e1",
   "metadata": {},
   "outputs": [
    {
     "name": "stdout",
     "output_type": "stream",
     "text": [
      "Accuracy:  EMA_10    98.06\n",
      "dtype: float64 %\n"
     ]
    }
   ],
   "source": [
    "\n",
    "y2 = 100 * (x2/y_test)\n",
    "accuracy = 100 - np.mean(y2)\n",
    "print('Accuracy: ', round(accuracy,2), '%')"
   ]
  },
  {
   "cell_type": "markdown",
   "id": "b4ce1ceb",
   "metadata": {},
   "source": [
    "# Strategy Checking"
   ]
  },
  {
   "cell_type": "code",
   "execution_count": 33,
   "id": "bc5e3db4",
   "metadata": {},
   "outputs": [
    {
     "name": "stdout",
     "output_type": "stream",
     "text": [
      "[*********************100%***********************]  1 of 1 completed\n"
     ]
    }
   ],
   "source": [
    "ticker = \"ORCL\"\n",
    "start_date = \"2023-01-22\"\n",
    "end_date = \"2023-06-22\"\n",
    "new = yf.download(ticker, start_date, end_date)"
   ]
  },
  {
   "cell_type": "code",
   "execution_count": 34,
   "id": "1ddb914e",
   "metadata": {},
   "outputs": [
    {
     "data": {
      "text/html": [
       "<div>\n",
       "<style scoped>\n",
       "    .dataframe tbody tr th:only-of-type {\n",
       "        vertical-align: middle;\n",
       "    }\n",
       "\n",
       "    .dataframe tbody tr th {\n",
       "        vertical-align: top;\n",
       "    }\n",
       "\n",
       "    .dataframe thead th {\n",
       "        text-align: right;\n",
       "    }\n",
       "</style>\n",
       "<table border=\"1\" class=\"dataframe\">\n",
       "  <thead>\n",
       "    <tr style=\"text-align: right;\">\n",
       "      <th></th>\n",
       "      <th>Open</th>\n",
       "      <th>High</th>\n",
       "      <th>Low</th>\n",
       "      <th>Close</th>\n",
       "      <th>Adj Close</th>\n",
       "      <th>Volume</th>\n",
       "    </tr>\n",
       "    <tr>\n",
       "      <th>Date</th>\n",
       "      <th></th>\n",
       "      <th></th>\n",
       "      <th></th>\n",
       "      <th></th>\n",
       "      <th></th>\n",
       "      <th></th>\n",
       "    </tr>\n",
       "  </thead>\n",
       "  <tbody>\n",
       "    <tr>\n",
       "      <th>2023-01-23</th>\n",
       "      <td>87.190002</td>\n",
       "      <td>89.129997</td>\n",
       "      <td>86.970001</td>\n",
       "      <td>88.970001</td>\n",
       "      <td>88.289139</td>\n",
       "      <td>7390200</td>\n",
       "    </tr>\n",
       "    <tr>\n",
       "      <th>2023-01-24</th>\n",
       "      <td>89.050003</td>\n",
       "      <td>90.099998</td>\n",
       "      <td>88.000000</td>\n",
       "      <td>89.699997</td>\n",
       "      <td>89.013550</td>\n",
       "      <td>7004600</td>\n",
       "    </tr>\n",
       "    <tr>\n",
       "      <th>2023-01-25</th>\n",
       "      <td>88.699997</td>\n",
       "      <td>89.860001</td>\n",
       "      <td>87.739998</td>\n",
       "      <td>89.639999</td>\n",
       "      <td>88.954018</td>\n",
       "      <td>5896800</td>\n",
       "    </tr>\n",
       "    <tr>\n",
       "      <th>2023-01-26</th>\n",
       "      <td>89.889999</td>\n",
       "      <td>90.489998</td>\n",
       "      <td>89.089996</td>\n",
       "      <td>89.830002</td>\n",
       "      <td>89.142563</td>\n",
       "      <td>7302800</td>\n",
       "    </tr>\n",
       "    <tr>\n",
       "      <th>2023-01-27</th>\n",
       "      <td>89.500000</td>\n",
       "      <td>89.720001</td>\n",
       "      <td>88.959999</td>\n",
       "      <td>88.989998</td>\n",
       "      <td>88.308983</td>\n",
       "      <td>5676800</td>\n",
       "    </tr>\n",
       "    <tr>\n",
       "      <th>...</th>\n",
       "      <td>...</td>\n",
       "      <td>...</td>\n",
       "      <td>...</td>\n",
       "      <td>...</td>\n",
       "      <td>...</td>\n",
       "      <td>...</td>\n",
       "    </tr>\n",
       "    <tr>\n",
       "      <th>2023-06-14</th>\n",
       "      <td>116.500000</td>\n",
       "      <td>122.510002</td>\n",
       "      <td>115.739998</td>\n",
       "      <td>122.269997</td>\n",
       "      <td>121.842400</td>\n",
       "      <td>26264200</td>\n",
       "    </tr>\n",
       "    <tr>\n",
       "      <th>2023-06-15</th>\n",
       "      <td>121.949997</td>\n",
       "      <td>127.540001</td>\n",
       "      <td>121.660004</td>\n",
       "      <td>126.550003</td>\n",
       "      <td>126.107445</td>\n",
       "      <td>27476700</td>\n",
       "    </tr>\n",
       "    <tr>\n",
       "      <th>2023-06-16</th>\n",
       "      <td>127.139999</td>\n",
       "      <td>127.400002</td>\n",
       "      <td>125.150002</td>\n",
       "      <td>125.459999</td>\n",
       "      <td>125.021248</td>\n",
       "      <td>19511500</td>\n",
       "    </tr>\n",
       "    <tr>\n",
       "      <th>2023-06-20</th>\n",
       "      <td>124.449997</td>\n",
       "      <td>125.250000</td>\n",
       "      <td>121.959999</td>\n",
       "      <td>122.040001</td>\n",
       "      <td>121.613213</td>\n",
       "      <td>16273000</td>\n",
       "    </tr>\n",
       "    <tr>\n",
       "      <th>2023-06-21</th>\n",
       "      <td>121.949997</td>\n",
       "      <td>123.360001</td>\n",
       "      <td>120.360001</td>\n",
       "      <td>122.099998</td>\n",
       "      <td>121.672997</td>\n",
       "      <td>17583000</td>\n",
       "    </tr>\n",
       "  </tbody>\n",
       "</table>\n",
       "<p>104 rows × 6 columns</p>\n",
       "</div>"
      ],
      "text/plain": [
       "                  Open        High         Low       Close   Adj Close  \\\n",
       "Date                                                                     \n",
       "2023-01-23   87.190002   89.129997   86.970001   88.970001   88.289139   \n",
       "2023-01-24   89.050003   90.099998   88.000000   89.699997   89.013550   \n",
       "2023-01-25   88.699997   89.860001   87.739998   89.639999   88.954018   \n",
       "2023-01-26   89.889999   90.489998   89.089996   89.830002   89.142563   \n",
       "2023-01-27   89.500000   89.720001   88.959999   88.989998   88.308983   \n",
       "...                ...         ...         ...         ...         ...   \n",
       "2023-06-14  116.500000  122.510002  115.739998  122.269997  121.842400   \n",
       "2023-06-15  121.949997  127.540001  121.660004  126.550003  126.107445   \n",
       "2023-06-16  127.139999  127.400002  125.150002  125.459999  125.021248   \n",
       "2023-06-20  124.449997  125.250000  121.959999  122.040001  121.613213   \n",
       "2023-06-21  121.949997  123.360001  120.360001  122.099998  121.672997   \n",
       "\n",
       "              Volume  \n",
       "Date                  \n",
       "2023-01-23   7390200  \n",
       "2023-01-24   7004600  \n",
       "2023-01-25   5896800  \n",
       "2023-01-26   7302800  \n",
       "2023-01-27   5676800  \n",
       "...              ...  \n",
       "2023-06-14  26264200  \n",
       "2023-06-15  27476700  \n",
       "2023-06-16  19511500  \n",
       "2023-06-20  16273000  \n",
       "2023-06-21  17583000  \n",
       "\n",
       "[104 rows x 6 columns]"
      ]
     },
     "execution_count": 34,
     "metadata": {},
     "output_type": "execute_result"
    }
   ],
   "source": [
    "new"
   ]
  },
  {
   "cell_type": "code",
   "execution_count": 35,
   "id": "cfee3f5f",
   "metadata": {},
   "outputs": [],
   "source": [
    "new = new.drop(['High','Low','Adj Close','Volume'], axis=1)"
   ]
  },
  {
   "cell_type": "code",
   "execution_count": 36,
   "id": "5db88758",
   "metadata": {},
   "outputs": [
    {
     "data": {
      "text/html": [
       "<div>\n",
       "<style scoped>\n",
       "    .dataframe tbody tr th:only-of-type {\n",
       "        vertical-align: middle;\n",
       "    }\n",
       "\n",
       "    .dataframe tbody tr th {\n",
       "        vertical-align: top;\n",
       "    }\n",
       "\n",
       "    .dataframe thead th {\n",
       "        text-align: right;\n",
       "    }\n",
       "</style>\n",
       "<table border=\"1\" class=\"dataframe\">\n",
       "  <thead>\n",
       "    <tr style=\"text-align: right;\">\n",
       "      <th></th>\n",
       "      <th>Open</th>\n",
       "      <th>Close</th>\n",
       "    </tr>\n",
       "    <tr>\n",
       "      <th>Date</th>\n",
       "      <th></th>\n",
       "      <th></th>\n",
       "    </tr>\n",
       "  </thead>\n",
       "  <tbody>\n",
       "    <tr>\n",
       "      <th>2023-01-23</th>\n",
       "      <td>87.190002</td>\n",
       "      <td>88.970001</td>\n",
       "    </tr>\n",
       "    <tr>\n",
       "      <th>2023-01-24</th>\n",
       "      <td>89.050003</td>\n",
       "      <td>89.699997</td>\n",
       "    </tr>\n",
       "    <tr>\n",
       "      <th>2023-01-25</th>\n",
       "      <td>88.699997</td>\n",
       "      <td>89.639999</td>\n",
       "    </tr>\n",
       "    <tr>\n",
       "      <th>2023-01-26</th>\n",
       "      <td>89.889999</td>\n",
       "      <td>89.830002</td>\n",
       "    </tr>\n",
       "    <tr>\n",
       "      <th>2023-01-27</th>\n",
       "      <td>89.500000</td>\n",
       "      <td>88.989998</td>\n",
       "    </tr>\n",
       "    <tr>\n",
       "      <th>...</th>\n",
       "      <td>...</td>\n",
       "      <td>...</td>\n",
       "    </tr>\n",
       "    <tr>\n",
       "      <th>2023-06-14</th>\n",
       "      <td>116.500000</td>\n",
       "      <td>122.269997</td>\n",
       "    </tr>\n",
       "    <tr>\n",
       "      <th>2023-06-15</th>\n",
       "      <td>121.949997</td>\n",
       "      <td>126.550003</td>\n",
       "    </tr>\n",
       "    <tr>\n",
       "      <th>2023-06-16</th>\n",
       "      <td>127.139999</td>\n",
       "      <td>125.459999</td>\n",
       "    </tr>\n",
       "    <tr>\n",
       "      <th>2023-06-20</th>\n",
       "      <td>124.449997</td>\n",
       "      <td>122.040001</td>\n",
       "    </tr>\n",
       "    <tr>\n",
       "      <th>2023-06-21</th>\n",
       "      <td>121.949997</td>\n",
       "      <td>122.099998</td>\n",
       "    </tr>\n",
       "  </tbody>\n",
       "</table>\n",
       "<p>104 rows × 2 columns</p>\n",
       "</div>"
      ],
      "text/plain": [
       "                  Open       Close\n",
       "Date                              \n",
       "2023-01-23   87.190002   88.970001\n",
       "2023-01-24   89.050003   89.699997\n",
       "2023-01-25   88.699997   89.639999\n",
       "2023-01-26   89.889999   89.830002\n",
       "2023-01-27   89.500000   88.989998\n",
       "...                ...         ...\n",
       "2023-06-14  116.500000  122.269997\n",
       "2023-06-15  121.949997  126.550003\n",
       "2023-06-16  127.139999  125.459999\n",
       "2023-06-20  124.449997  122.040001\n",
       "2023-06-21  121.949997  122.099998\n",
       "\n",
       "[104 rows x 2 columns]"
      ]
     },
     "execution_count": 36,
     "metadata": {},
     "output_type": "execute_result"
    }
   ],
   "source": [
    "new"
   ]
  },
  {
   "cell_type": "code",
   "execution_count": 37,
   "id": "15514879",
   "metadata": {},
   "outputs": [
    {
     "data": {
      "text/plain": [
       "Date\n",
       "2023-01-23           NaN\n",
       "2023-01-24           NaN\n",
       "2023-01-25           NaN\n",
       "2023-01-26           NaN\n",
       "2023-01-27           NaN\n",
       "                 ...    \n",
       "2023-06-14    111.887190\n",
       "2023-06-15    114.553156\n",
       "2023-06-16    116.536219\n",
       "2023-06-20    117.536906\n",
       "2023-06-21    118.366559\n",
       "Name: EMA_10, Length: 104, dtype: float64"
      ]
     },
     "execution_count": 37,
     "metadata": {},
     "output_type": "execute_result"
    }
   ],
   "source": [
    "new.ta.ema(close='close', length = 10, append = True)"
   ]
  },
  {
   "cell_type": "code",
   "execution_count": 38,
   "id": "17994e2f",
   "metadata": {},
   "outputs": [
    {
     "name": "stdout",
     "output_type": "stream",
     "text": [
      "                  Open       Close      EMA_10\n",
      "Date                                          \n",
      "2023-01-23   87.190002   88.970001         NaN\n",
      "2023-01-24   89.050003   89.699997         NaN\n",
      "2023-01-25   88.699997   89.639999         NaN\n",
      "2023-01-26   89.889999   89.830002         NaN\n",
      "2023-01-27   89.500000   88.989998         NaN\n",
      "...                ...         ...         ...\n",
      "2023-06-14  116.500000  122.269997  111.887190\n",
      "2023-06-15  121.949997  126.550003  114.553156\n",
      "2023-06-16  127.139999  125.459999  116.536219\n",
      "2023-06-20  124.449997  122.040001  117.536906\n",
      "2023-06-21  121.949997  122.099998  118.366559\n",
      "\n",
      "[104 rows x 3 columns]\n"
     ]
    },
    {
     "data": {
      "text/html": [
       "<div>\n",
       "<style scoped>\n",
       "    .dataframe tbody tr th:only-of-type {\n",
       "        vertical-align: middle;\n",
       "    }\n",
       "\n",
       "    .dataframe tbody tr th {\n",
       "        vertical-align: top;\n",
       "    }\n",
       "\n",
       "    .dataframe thead th {\n",
       "        text-align: right;\n",
       "    }\n",
       "</style>\n",
       "<table border=\"1\" class=\"dataframe\">\n",
       "  <thead>\n",
       "    <tr style=\"text-align: right;\">\n",
       "      <th></th>\n",
       "      <th>Open</th>\n",
       "      <th>Close</th>\n",
       "      <th>EMA_10</th>\n",
       "    </tr>\n",
       "    <tr>\n",
       "      <th>Date</th>\n",
       "      <th></th>\n",
       "      <th></th>\n",
       "      <th></th>\n",
       "    </tr>\n",
       "  </thead>\n",
       "  <tbody>\n",
       "    <tr>\n",
       "      <th>2023-02-06</th>\n",
       "      <td>89.510002</td>\n",
       "      <td>88.529999</td>\n",
       "      <td>89.077363</td>\n",
       "    </tr>\n",
       "    <tr>\n",
       "      <th>2023-02-07</th>\n",
       "      <td>87.870003</td>\n",
       "      <td>87.739998</td>\n",
       "      <td>88.834206</td>\n",
       "    </tr>\n",
       "    <tr>\n",
       "      <th>2023-02-08</th>\n",
       "      <td>86.930000</td>\n",
       "      <td>86.690002</td>\n",
       "      <td>88.444351</td>\n",
       "    </tr>\n",
       "    <tr>\n",
       "      <th>2023-02-09</th>\n",
       "      <td>87.139999</td>\n",
       "      <td>86.650002</td>\n",
       "      <td>88.118105</td>\n",
       "    </tr>\n",
       "    <tr>\n",
       "      <th>2023-02-10</th>\n",
       "      <td>86.529999</td>\n",
       "      <td>87.139999</td>\n",
       "      <td>87.940268</td>\n",
       "    </tr>\n",
       "    <tr>\n",
       "      <th>...</th>\n",
       "      <td>...</td>\n",
       "      <td>...</td>\n",
       "      <td>...</td>\n",
       "    </tr>\n",
       "    <tr>\n",
       "      <th>2023-06-14</th>\n",
       "      <td>116.500000</td>\n",
       "      <td>122.269997</td>\n",
       "      <td>111.887190</td>\n",
       "    </tr>\n",
       "    <tr>\n",
       "      <th>2023-06-15</th>\n",
       "      <td>121.949997</td>\n",
       "      <td>126.550003</td>\n",
       "      <td>114.553156</td>\n",
       "    </tr>\n",
       "    <tr>\n",
       "      <th>2023-06-16</th>\n",
       "      <td>127.139999</td>\n",
       "      <td>125.459999</td>\n",
       "      <td>116.536219</td>\n",
       "    </tr>\n",
       "    <tr>\n",
       "      <th>2023-06-20</th>\n",
       "      <td>124.449997</td>\n",
       "      <td>122.040001</td>\n",
       "      <td>117.536906</td>\n",
       "    </tr>\n",
       "    <tr>\n",
       "      <th>2023-06-21</th>\n",
       "      <td>121.949997</td>\n",
       "      <td>122.099998</td>\n",
       "      <td>118.366559</td>\n",
       "    </tr>\n",
       "  </tbody>\n",
       "</table>\n",
       "<p>94 rows × 3 columns</p>\n",
       "</div>"
      ],
      "text/plain": [
       "                  Open       Close      EMA_10\n",
       "Date                                          \n",
       "2023-02-06   89.510002   88.529999   89.077363\n",
       "2023-02-07   87.870003   87.739998   88.834206\n",
       "2023-02-08   86.930000   86.690002   88.444351\n",
       "2023-02-09   87.139999   86.650002   88.118105\n",
       "2023-02-10   86.529999   87.139999   87.940268\n",
       "...                ...         ...         ...\n",
       "2023-06-14  116.500000  122.269997  111.887190\n",
       "2023-06-15  121.949997  126.550003  114.553156\n",
       "2023-06-16  127.139999  125.459999  116.536219\n",
       "2023-06-20  124.449997  122.040001  117.536906\n",
       "2023-06-21  121.949997  122.099998  118.366559\n",
       "\n",
       "[94 rows x 3 columns]"
      ]
     },
     "execution_count": 38,
     "metadata": {},
     "output_type": "execute_result"
    }
   ],
   "source": [
    "print(new)\n",
    "new=new.iloc[10:]\n",
    "new"
   ]
  },
  {
   "cell_type": "code",
   "execution_count": 39,
   "id": "7545f6cc",
   "metadata": {},
   "outputs": [],
   "source": [
    "#Predicting the values\n",
    "close_values = new[['EMA_10']]\n",
    "my_pred = model.predict(close_values)"
   ]
  },
  {
   "cell_type": "code",
   "execution_count": 40,
   "id": "48853c35",
   "metadata": {},
   "outputs": [],
   "source": [
    "new['Predicted Values']=my_pred"
   ]
  },
  {
   "cell_type": "code",
   "execution_count": 41,
   "id": "10a99bc0",
   "metadata": {},
   "outputs": [
    {
     "data": {
      "text/html": [
       "<div>\n",
       "<style scoped>\n",
       "    .dataframe tbody tr th:only-of-type {\n",
       "        vertical-align: middle;\n",
       "    }\n",
       "\n",
       "    .dataframe tbody tr th {\n",
       "        vertical-align: top;\n",
       "    }\n",
       "\n",
       "    .dataframe thead th {\n",
       "        text-align: right;\n",
       "    }\n",
       "</style>\n",
       "<table border=\"1\" class=\"dataframe\">\n",
       "  <thead>\n",
       "    <tr style=\"text-align: right;\">\n",
       "      <th></th>\n",
       "      <th>Open</th>\n",
       "      <th>Close</th>\n",
       "      <th>EMA_10</th>\n",
       "      <th>Predicted Values</th>\n",
       "    </tr>\n",
       "    <tr>\n",
       "      <th>Date</th>\n",
       "      <th></th>\n",
       "      <th></th>\n",
       "      <th></th>\n",
       "      <th></th>\n",
       "    </tr>\n",
       "  </thead>\n",
       "  <tbody>\n",
       "    <tr>\n",
       "      <th>2023-02-06</th>\n",
       "      <td>89.510002</td>\n",
       "      <td>88.529999</td>\n",
       "      <td>89.077363</td>\n",
       "      <td>87.649867</td>\n",
       "    </tr>\n",
       "    <tr>\n",
       "      <th>2023-02-07</th>\n",
       "      <td>87.870003</td>\n",
       "      <td>87.739998</td>\n",
       "      <td>88.834206</td>\n",
       "      <td>87.433717</td>\n",
       "    </tr>\n",
       "    <tr>\n",
       "      <th>2023-02-08</th>\n",
       "      <td>86.930000</td>\n",
       "      <td>86.690002</td>\n",
       "      <td>88.444351</td>\n",
       "      <td>87.087162</td>\n",
       "    </tr>\n",
       "    <tr>\n",
       "      <th>2023-02-09</th>\n",
       "      <td>87.139999</td>\n",
       "      <td>86.650002</td>\n",
       "      <td>88.118105</td>\n",
       "      <td>86.797152</td>\n",
       "    </tr>\n",
       "    <tr>\n",
       "      <th>2023-02-10</th>\n",
       "      <td>86.529999</td>\n",
       "      <td>87.139999</td>\n",
       "      <td>87.940268</td>\n",
       "      <td>86.639067</td>\n",
       "    </tr>\n",
       "    <tr>\n",
       "      <th>...</th>\n",
       "      <td>...</td>\n",
       "      <td>...</td>\n",
       "      <td>...</td>\n",
       "      <td>...</td>\n",
       "    </tr>\n",
       "    <tr>\n",
       "      <th>2023-06-14</th>\n",
       "      <td>116.500000</td>\n",
       "      <td>122.269997</td>\n",
       "      <td>111.887190</td>\n",
       "      <td>107.926252</td>\n",
       "    </tr>\n",
       "    <tr>\n",
       "      <th>2023-06-15</th>\n",
       "      <td>121.949997</td>\n",
       "      <td>126.550003</td>\n",
       "      <td>114.553156</td>\n",
       "      <td>110.296115</td>\n",
       "    </tr>\n",
       "    <tr>\n",
       "      <th>2023-06-16</th>\n",
       "      <td>127.139999</td>\n",
       "      <td>125.459999</td>\n",
       "      <td>116.536219</td>\n",
       "      <td>112.058922</td>\n",
       "    </tr>\n",
       "    <tr>\n",
       "      <th>2023-06-20</th>\n",
       "      <td>124.449997</td>\n",
       "      <td>122.040001</td>\n",
       "      <td>117.536906</td>\n",
       "      <td>112.948465</td>\n",
       "    </tr>\n",
       "    <tr>\n",
       "      <th>2023-06-21</th>\n",
       "      <td>121.949997</td>\n",
       "      <td>122.099998</td>\n",
       "      <td>118.366559</td>\n",
       "      <td>113.685971</td>\n",
       "    </tr>\n",
       "  </tbody>\n",
       "</table>\n",
       "<p>94 rows × 4 columns</p>\n",
       "</div>"
      ],
      "text/plain": [
       "                  Open       Close      EMA_10  Predicted Values\n",
       "Date                                                            \n",
       "2023-02-06   89.510002   88.529999   89.077363         87.649867\n",
       "2023-02-07   87.870003   87.739998   88.834206         87.433717\n",
       "2023-02-08   86.930000   86.690002   88.444351         87.087162\n",
       "2023-02-09   87.139999   86.650002   88.118105         86.797152\n",
       "2023-02-10   86.529999   87.139999   87.940268         86.639067\n",
       "...                ...         ...         ...               ...\n",
       "2023-06-14  116.500000  122.269997  111.887190        107.926252\n",
       "2023-06-15  121.949997  126.550003  114.553156        110.296115\n",
       "2023-06-16  127.139999  125.459999  116.536219        112.058922\n",
       "2023-06-20  124.449997  122.040001  117.536906        112.948465\n",
       "2023-06-21  121.949997  122.099998  118.366559        113.685971\n",
       "\n",
       "[94 rows x 4 columns]"
      ]
     },
     "execution_count": 41,
     "metadata": {},
     "output_type": "execute_result"
    }
   ],
   "source": [
    "new"
   ]
  },
  {
   "cell_type": "code",
   "execution_count": 42,
   "id": "559a864a",
   "metadata": {},
   "outputs": [],
   "source": [
    "new.to_csv('Model_2_Predictions.csv')"
   ]
  }
 ],
 "metadata": {
  "kernelspec": {
   "display_name": "Python 3 (ipykernel)",
   "language": "python",
   "name": "python3"
  },
  "language_info": {
   "codemirror_mode": {
    "name": "ipython",
    "version": 3
   },
   "file_extension": ".py",
   "mimetype": "text/x-python",
   "name": "python",
   "nbconvert_exporter": "python",
   "pygments_lexer": "ipython3",
   "version": "3.7.8"
  }
 },
 "nbformat": 4,
 "nbformat_minor": 5
}
